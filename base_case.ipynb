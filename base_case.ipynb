{
 "cells": [
  {
   "cell_type": "markdown",
   "metadata": {},
   "source": [
    "<h2>Base case with 2 calibrations and 2 job types</h2>\n",
    "Consider a problem of scheduling certain number of jobs that can have 2 possible execution times, on a single machine that needs occasional calibration. Once calibrated, machine stays in calibrated state for some interval of time that can take 2 possible lengths. Jobs cannot be executed unless the machine is in calibrated state."
   ]
  },
  {
   "cell_type": "markdown",
   "metadata": {},
   "source": [
    "<h3>Step 1 : Initialization </h3>"
   ]
  },
  {
   "cell_type": "code",
   "execution_count": 6,
   "metadata": {},
   "outputs": [],
   "source": [
    "from functools import lru_cache\n",
    "import random, pprint\n",
    "pp = pprint.PrettyPrinter()\n",
    "\n",
    "job_types=range(2)  #2 job types\n",
    "cal_types=range(2)  #2 calibration types\n",
    "cal_len=[] #lengths of calibrations\n",
    "job_nb=[]  #numbers of jobs of each type\n",
    "job_len=[] #lengths of jobs of each type\n",
    "cost_cal=0  #calibration cost\n",
    "cost_prob=0  #probing cost\n",
    "inp = int(input('Please enter 1 for user input, and 0 for automatically generated input '))\n",
    "\n",
    "if(inp==1):\n",
    "    j1 = int(input('Please input the length of the shorter job '))\n",
    "    j2=int(input('Please input the length of the longer job '))\n",
    "    job_len.extend((j1,j2))\n",
    "    n1 = int(input('Please input the number of the shorter jobs '))\n",
    "    n2=int(input('Please input the number of the longer jobs '))\n",
    "    job_nb.extend((n1,n2))\n",
    "    job_nb=tuple(job_nb)\n",
    "    d1 = int(input('Please input the length of the shorter calibration '))\n",
    "    d2=int(input('Please input the length of the longer calibration '))\n",
    "    cal_len.extend((d1,d2))\n",
    "    cal_len=tuple(cal_len)\n",
    "    cost_cal=int(input('Please input the calibration cost '))\n",
    "    cost_prob=int(input('Please input the probing cost '))\n",
    "else:\n",
    "    job_nb = tuple(random.randint(10,20) for _ in job_types)\t\t\t# has to be a tuple for lru_cache\n",
    "    job_len = [random.randint(10, 15) + 15* i for i in job_types]\n",
    "    cal_len = [random.randint(40,50) + 20 * i for i in cal_types]\n",
    "    cal_len.sort()  # just make sure the shortest one has index 0\n",
    "    cal_len=tuple(cal_len)\n",
    "    cost_cal = random.randint(100,150)\n",
    "    cost_prob = random.randint(30, 50)\n",
    "    "
   ]
  },
  {
   "cell_type": "markdown",
   "metadata": {},
   "source": [
    "<h3>Step 2: Maximal packings</h3>\n",
    "Compute for each calibration type, vectors of numbers of jobs that would fit in an interval of its length. Vectors are maximal in the sense that incrementing any of the job numbers would exceed the interval capacity\n"
   ]
  },
  {
   "cell_type": "code",
   "execution_count": 7,
   "metadata": {},
   "outputs": [
    {
     "name": "stdout",
     "output_type": "stream",
     "text": [
      "Maximal Coverings of calibration of length 41 is [[0, 1], [1, 1], [2, 0], [3, 0]]\n",
      "Maximal Coverings of calibration of length 65 is [[0, 2], [1, 1], [2, 1], [3, 1], [4, 0], [5, 0]]\n"
     ]
    }
   ],
   "source": [
    "def fit_max(cal_len,job_len): #maximal packings function\n",
    "    max_fit = [[] for ell in cal_types]\n",
    "    for j, ell in enumerate(cal_len):\n",
    "        for i0 in range(ell // job_len[0] + 1): \t# +1 because we want to include this last value\n",
    "            i1 = (ell - i0 * job_len[0]) // job_len[1]\n",
    "            max_fit[j].append([i0, i1])\n",
    "    return max_fit\n",
    "\n",
    "max_fit = fit_max(cal_len,job_len)\n",
    "print(\"Maximal Coverings of calibration of length \" + str(cal_len[0])+ \" is \" + str(max_fit[0]))\n",
    "print(\"Maximal Coverings of calibration of length \" + str(cal_len[1])+ \" is \" + str(max_fit[1]))\n",
    "#pp.pprint(max_fit)"
   ]
  },
  {
   "cell_type": "markdown",
   "metadata": {},
   "source": [
    "<h3>Step 3: Scheduling functions - proposed and random schedule</h3>"
   ]
  },
  {
   "cell_type": "code",
   "execution_count": 8,
   "metadata": {},
   "outputs": [],
   "source": [
    "@lru_cache(maxsize=None) \n",
    "def schedule(remaining, cost_cal, cost_prob):\n",
    "\t\n",
    "\t\"\"\"\n",
    "\tSolves optimally the scheduling problem with the given remaining\n",
    "\tnumber of jobs of each type.\n",
    "\n",
    "\tReturns a couple (exp_cost, sample_sch), where exp_cost is the expected\n",
    "\tcost of the produced schedule and sample_sch is the description  of\n",
    "\tone scenario of this schedule. The later consiste in a list of\n",
    "\tcouples (technically 2-element lists). Every couple [t, v] describes\n",
    "\tone calibration interval. If t == -1, then the interval is not probed,\n",
    "\tand otherwise it is probed and t is its type. The vector v describes\n",
    "\thow many jobs of each type are packed into this interval.\n",
    "\t\"\"\"\n",
    "    \n",
    "\tif sum(remaining) == 0:\n",
    "\t\t# no jobs to schedule\n",
    "\t\treturn (0, [])\n",
    "\n",
    "\t# compute for each calibration type the schedule optimizing the expected cost\n",
    "\topt_sch = [(float('inf'), []) for _ in cal_types]\n",
    "\tfor i in cal_types:       \n",
    "\t\t# an alternative is of the form [e, s], \n",
    "\t\t# where e is the expected cost, \n",
    "\t\t# and s a sampled schedule with the restriction \n",
    "\t\t# that the first interval is of type i.\n",
    "\t\t# try all possibilities to pack jobs into this first interval\n",
    "\t\tfor u in max_fit[i]:\n",
    "\t\t\t# v0 is the actual packing vector, taking into account availabilities\n",
    "\t\t\tv0 = [min(remaining[j], u[j]) for j in job_types]\n",
    "\t\t\tif sum(v0):\t\t\t# ignore empty packings\n",
    "\t\t\t\tv1 = tuple(remaining[j] - v0[j] for j in job_types)\n",
    "\t\t\t\t# schedule optimally v1, the vector of remaining jobs, once v0 is packed\n",
    "\t\t\t\tcost, sch = schedule(v1, cost_cal, cost_prob)\n",
    "\t\t\t\talt = (cost_cal + cost, [[i, v0]] + sch)\t# consider this alternative\n",
    "\t\t\t\tif alt < opt_sch[i]:\n",
    "\t\t\t\t\topt_sch[i] = alt\n",
    "\t\n",
    "\t# Compare 2 alternatives\n",
    "\n",
    "\t\n",
    "\t# alternative 1: probe\n",
    "\t# compute expected cost, by averaging \n",
    "\texp_cost = cost_prob + sum(opt_sch[i][0] for i in cal_types) / len(cal_types)\n",
    "\t# compare with alternative 2: don't probe, use calibration type 0\n",
    "\tif exp_cost < opt_sch[0][0]:\t\n",
    "\t\t# sample one scenario\n",
    "\t\ti = random.choice(cal_types)\n",
    "\t\treturn (exp_cost, opt_sch[i][1])\n",
    "\telse:\n",
    "\t\t# alternative 2: don't probe, use type 0 interval\n",
    "\t\t\n",
    "\t\t# 0=calibration type, 1=schedule, 0=first interval, 0=type of this interval\n",
    "\t\topt_sch[0][1][0][0] = -1 # indicate that we don't probe; shortest calibration, value for the first job type = -1\n",
    "\t\t# it is ok to modify this object as it is not used in another context\n",
    "\t\treturn opt_sch[0]"
   ]
  },
  {
   "cell_type": "code",
   "execution_count": 9,
   "metadata": {},
   "outputs": [],
   "source": [
    "#random schedule, similar to the previous one but selects alternatives randomly \n",
    "@lru_cache(maxsize=None) \n",
    "def schedule_rdn(remaining, cost_cal, cost_prob):\n",
    "    \n",
    "\tif sum(remaining) == 0:\n",
    "\t\t# no jobs to schedule\n",
    "\t\treturn (0, [])\n",
    "\n",
    "\t# compute for each calibration type the schedule optimizing the expected cost\n",
    "\topt_sch = [(float('inf'), []) for _ in cal_types]\n",
    "\tfor i in cal_types:       \n",
    "\t\t# an alternative is of the form [e, s], \n",
    "\t\t# where e is the expected cost, \n",
    "\t\t# and s a sampled schedule with the restriction \n",
    "\t\t# that the first interval is of type i.\n",
    "\t\t# try all possibilities to pack jobs into this first interval\n",
    "\t\tfor u in max_fit[i]:\n",
    "\t\t\t# v0 is the actual packing vector, taking into account availabilities\n",
    "\t\t\tv0 = [min(remaining[j], u[j]) for j in job_types]\n",
    "\t\t\tif sum(v0):\t\t\t# ignore empty packings\n",
    "\t\t\t\tv1 = tuple(remaining[j] - v0[j] for j in job_types)\n",
    "\t\t\t\t# schedule optimally v1, the vector of remaining jobs, once v0 is packed\n",
    "\t\t\t\tcost, sch = schedule_rdn(v1, cost_cal, cost_prob)\n",
    "\t\t\t\talt = (cost_cal + cost, [[i, v0]] + sch)\t# consider this alternative\n",
    "\t\t\t\tif alt < opt_sch[i]:\n",
    "\t\t\t\t\topt_sch[i] = alt\n",
    "\t\n",
    "\t#  2 alternatives based on the value of choice that is random\n",
    "\n",
    "\t\n",
    "\t# alternative 1: probe\n",
    "\t# compute expected cost, by averaging\n",
    "\tchoice = random.randint(0,1)\n",
    "\texp_cost = cost_prob + sum(opt_sch[i][0] for i in cal_types) / len(cal_types)\n",
    "    \n",
    "\tif choice==0:\t\n",
    "\t\t# probing\n",
    "\t\ti = random.choice(cal_types)\n",
    "\t\treturn (exp_cost, opt_sch[i][1])\n",
    "\telse:\n",
    "\t\t# alternative 2: don't probe, use type 0 interval\n",
    "\t\t\n",
    "\t\t# 0=calibration type, 1=schedule, 0=first interval, 0=type of this interval\n",
    "\t\topt_sch[0][1][0][0] = -1 # indicate that we don't probe; shortest calibration, value for the first job type = -1\n",
    "\t\t# it is ok to modify this object as it is not used in another context\n",
    "\t\treturn opt_sch[0]"
   ]
  },
  {
   "cell_type": "markdown",
   "metadata": {},
   "source": [
    "<h3> Step 4: Representations of the schedules </h3>"
   ]
  },
  {
   "cell_type": "code",
   "execution_count": 10,
   "metadata": {},
   "outputs": [
    {
     "name": "stdout",
     "output_type": "stream",
     "text": [
      "instance job_nb=(14, 13) job_len=[11, 29] cal_len=(41, 65) cost_cal=105 cost_prob=50\n",
      "\n",
      "Probing based on minimizing expected cost\n",
      "(1465.0006103515625,\n",
      " [[1, [0, 2]],\n",
      "  [-1, [1, 1]],\n",
      "  [-1, [1, 1]],\n",
      "  [-1, [1, 1]],\n",
      "  [-1, [1, 1]],\n",
      "  [-1, [1, 1]],\n",
      "  [-1, [1, 1]],\n",
      "  [-1, [1, 1]],\n",
      "  [-1, [1, 1]],\n",
      "  [-1, [1, 1]],\n",
      "  [-1, [1, 1]],\n",
      "  [-1, [1, 1]],\n",
      "  [-1, [3, 0]]])\n",
      "\n",
      "Randomly probing\n",
      "(1535.0,\n",
      " [[-1, [0, 1]],\n",
      "  [-1, [1, 1]],\n",
      "  [-1, [1, 1]],\n",
      "  [1, [2, 1]],\n",
      "  [-1, [1, 1]],\n",
      "  [-1, [1, 1]],\n",
      "  [-1, [1, 1]],\n",
      "  [-1, [1, 1]],\n",
      "  [-1, [1, 1]],\n",
      "  [-1, [1, 1]],\n",
      "  [1, [3, 1]],\n",
      "  [-1, [1, 1]],\n",
      "  [-1, [0, 1]]])\n"
     ]
    }
   ],
   "source": [
    "print(f\"instance {job_nb=} {job_len=} {cal_len=} {cost_cal=} {cost_prob=}\")\n",
    "print(\"\\nProbing based on minimizing expected cost\")\n",
    "pp.pprint(schedule(job_nb, cost_cal, cost_prob))\n",
    "print(\"\\nRandomly probing\")\n",
    "pp.pprint(schedule_rdn(job_nb, cost_cal, cost_prob))"
   ]
  },
  {
   "cell_type": "markdown",
   "metadata": {},
   "source": [
    "<h3> Step 5: Analysing properties of schedules </h3>"
   ]
  },
  {
   "cell_type": "markdown",
   "metadata": {},
   "source": [
    "<h5> 5.1 Probing rank refers to an index of an interval in a schedule after which scheduler does not probe anymore. If probing rank exists in a schedule, we mark it as 1, if it does not exist -1, and if a scheduler does not probe at all, we label 0. Consider 121 randomly generated schedules of fixed job lengths and calibration lengths.</h5>\n"
   ]
  },
  {
   "cell_type": "code",
   "execution_count": 11,
   "metadata": {},
   "outputs": [
    {
     "name": "stdout",
     "output_type": "stream",
     "text": [
      "instance job_len=[11, 29] cal_len=(41, 65) \n",
      "1 indicates that algorithm does not probe after some interval (pattern present),\n",
      "-1 indicates that it does (pattern not present),\n",
      "0 indicates that it does not probe at all in this schedule(inconclusive)\n",
      "\n",
      "array([1, 1, 1, 1, 1, 1, 1, 1, 1, 1, 1, 1, 1, 1, 1, 1, 1, 1, 1, 1, 1, 1,\n",
      "       1, 1, 1, 1, 0, 1, 1, 1, 1, 1, 1, 1, 1, 1, 1, 1, 0, 1, 1, 1, 1, 1,\n",
      "       0, 1, 1, 1, 1, 1, 1, 1, 1, 1, 0, 1, 1, 1, 1, 1, 1, 1, 1, 1, 1, 1,\n",
      "       1, 1, 1, 1, 1, 1, 1, 1, 1, 1, 1, 1, 1, 1, 1, 1, 1, 1, 1, 1, 1, 1,\n",
      "       1, 1, 1, 1, 1, 1, 1, 1, 1, 1, 1, 1, 1, 1, 1, 1, 1, 1, 1, 1, 1, 1,\n",
      "       1, 1, 1, 1, 1, 1, 1, 1, 1, 1, 1])\n",
      "Number of 0s: 4\n",
      "Number of 1s: 117\n",
      "Number of -1s: 0\n"
     ]
    }
   ],
   "source": [
    "import numpy as np\n",
    "%matplotlib inline\n",
    "import matplotlib.pyplot as plt\n",
    "\n",
    "#funcion finds the first interval that is not probed = probing rank\n",
    "#function returns 1 we don't proble after probing rank, -1 if we do, 0 if we don't probe at all\n",
    "def algo_choice(solution):\n",
    "    result=[0]*2\n",
    "    schedule = solution[1]\n",
    "    first_el=[item[0] for item in schedule]\n",
    "    idx = -1\n",
    "    find=1\n",
    "    try:\n",
    "        idx = first_el.index(-1)\n",
    "        idx = idx+1\n",
    "        for el in first_el[idx::]:\n",
    "            if(el!=-1):\n",
    "                find=-1\n",
    "                break\n",
    "    \n",
    "    except ValueError:\n",
    "        find=0\n",
    "        \n",
    "    return find\n",
    "\n",
    "#plot \n",
    "z= []\n",
    "for i in range(10,21):\n",
    "    for j in range(10,21):   \n",
    "        job_nb_ = tuple([i,j])\n",
    "        c_c = random.randint(100,200)\n",
    "        c_p = random.randint(20, 50)\n",
    "        res = schedule(job_nb_, c_c, c_p)\n",
    "        t = algo_choice(res)\n",
    "        z.append(t)\n",
    "        \n",
    "i = z.count(-1)\n",
    "j=z.count(1)\n",
    "z = np.array(z)\n",
    "print(f\"instance {job_len=} {cal_len=} \")\n",
    "print(\"1 indicates that algorithm does not probe after some interval (pattern present),\\n-1 indicates that it does (pattern not present),\\n0 indicates that it does not probe at all in this schedule(inconclusive)\\n\")\n",
    "pp.pprint(z)\n",
    "print(\"Number of 0s: \"+str(121-i-j))\n",
    "print(\"Number of 1s: \"+str(j))\n",
    "print(\"Number of -1s: \"+str(i))"
   ]
  },
  {
   "cell_type": "markdown",
   "metadata": {},
   "source": [
    "<h6> Conclusion: Probing rank exists in majority of the schedules </h6>"
   ]
  },
  {
   "cell_type": "markdown",
   "metadata": {},
   "source": [
    "<h5> 5.2 Estimate the average probing probability of an interval based on the ratio between calibration in probing cost. Consider 121 randomly generated schedules of fixed job lengths, job numbers and calibration lengths.</h5>"
   ]
  },
  {
   "cell_type": "code",
   "execution_count": 12,
   "metadata": {},
   "outputs": [
    {
     "data": {
      "image/png": "[encoded data removed]",
      "text/plain": [
       "<Figure size 432x288 with 1 Axes>"
      ]
     },
     "metadata": {
      "needs_background": "light"
     },
     "output_type": "display_data"
    }
   ],
   "source": [
    "def prob_prob(job_nb):\n",
    "    x=[]\n",
    "    y=[]\n",
    "    for c_c in range(100,201):\n",
    "        for c_p in range(20,51):\n",
    "            res=schedule(job_nb, c_c, c_p)\n",
    "            res1 = res[1]\n",
    "            first_el=[item[0] for item in res1]\n",
    "            unprobed=first_el.count(-1)\n",
    "            p2=1-unprobed/len(first_el)\n",
    "            x.append(c_c/c_p)\n",
    "            y.append(p2)\n",
    "    return x,y\n",
    "\n",
    "X, Y = prob_prob(job_nb)\n",
    "plt.plot(X, Y, 'o', color='black');\n",
    "plt.grid(True)\n",
    "plt.ylabel('probing probability')\n",
    "plt.xlabel('calibration cost / probing cost')\n",
    "plt.title('Effect of ratio between calibration cost and probing cost for\\n'+str(job_nb)+' jobs of lengths '+str(job_len)+', and calibration lengths '+str(cal_len))\n",
    "plt.show()  "
   ]
  },
  {
   "cell_type": "markdown",
   "metadata": {},
   "source": [
    "<h6> Conclusion: Maximimum value of a probing probability of a set of schedules with same calibration cost / probing cost ratio is directly proportional to the calibration cost/probing cost ratio"
   ]
  },
  {
   "cell_type": "markdown",
   "metadata": {},
   "source": [
    "<h3>Step 6: Performance comparison of two schedulers</h3>"
   ]
  },
  {
   "cell_type": "markdown",
   "metadata": {},
   "source": [
    "<h5> Comparing the performance of 121 pairs of schedules generated by proposed and random schedulers. Job numbers range from 10 to 20. Calibration and probing costs are randomly generated for each pair Job lengths and calibration lengths are fixed. Each entry in the output array refers to the percentage difference in costs between proposed and random schedule. <h5>"
   ]
  },
  {
   "cell_type": "code",
   "execution_count": 13,
   "metadata": {},
   "outputs": [
    {
     "name": "stdout",
     "output_type": "stream",
     "text": [
      "instance job_len=[11, 29] cal_len=(41, 65) \n",
      "array([4.5430945 , 0.        , 3.01334495, 2.23521629, 2.46593768,\n",
      "       0.97664126, 3.56479809, 3.51770895, 1.30388433, 2.58291228,\n",
      "       2.80068216, 4.5887746 , 5.03169906, 5.72555897, 4.45469081,\n",
      "       3.73603239, 3.33822609, 3.23053547, 4.566336  , 1.29993701,\n",
      "       2.79797244, 3.16019935, 2.20222771, 2.44460388, 1.55685954,\n",
      "       3.78970026, 3.42653941, 4.53688238, 3.12003814, 1.2078151 ,\n",
      "       2.7236345 , 1.39087911, 5.7589733 , 2.12667834, 3.2245809 ,\n",
      "       3.1707808 , 4.74986719, 4.69476113, 2.20819186, 3.62798568,\n",
      "       3.21332049, 1.43595122, 2.32888006, 2.53962222, 2.48691712,\n",
      "       3.21361059, 3.49303485, 0.55787618, 5.42127913, 3.86359023,\n",
      "       3.36927   , 1.80798939, 2.79219647, 1.21503737, 1.45124127,\n",
      "       1.33454814, 3.45119281, 1.94190751, 4.35901992, 1.8648614 ,\n",
      "       4.32855862, 2.43602845, 3.00673312, 0.95469881, 3.70004231,\n",
      "       2.79232254, 2.70708709, 0.68809807, 4.13175823, 0.91800714,\n",
      "       2.93584969, 3.97766027, 2.52715667, 3.72375778, 1.81605778,\n",
      "       2.28908254, 1.87983187, 3.2700565 , 2.60936957, 2.88900979,\n",
      "       5.33926003, 6.29374821, 2.14732568, 1.68990727, 2.92707961,\n",
      "       2.2787207 , 1.96340604, 2.27216671, 2.69694512, 1.62005624,\n",
      "       4.81646206, 1.26113769, 3.97593255, 2.8030066 , 2.23116805,\n",
      "       1.62734801, 2.78660105, 6.57077243, 2.23368964, 2.00506989,\n",
      "       2.86091596, 2.13098285, 4.16444952, 2.41793409, 2.78237926,\n",
      "       1.68063017, 1.15203104, 4.05261485, 2.29396347, 1.33986264,\n",
      "       3.00491694, 0.72101245, 5.4403581 , 3.39318194, 1.53266941,\n",
      "       2.18544039, 4.56333957, 1.93167165, 1.67512121, 0.05765496,\n",
      "       1.82540587])\n"
     ]
    }
   ],
   "source": [
    "import numpy as np\n",
    "%matplotlib inline\n",
    "import matplotlib.pyplot as plt\n",
    "\n",
    "#comparing the costs random scheduler with proposed scheduler\n",
    "def algo_rdn(sch1, sch2):\n",
    "    result=[0]*2\n",
    "    cost1 = sch1[0]\n",
    "    cost2 = sch2[0]\n",
    "    diff = (cost2-cost1)/cost2\n",
    "    return diff*100\n",
    "    \n",
    "\n",
    "#plot \n",
    "z= []\n",
    "for i in range(10,21):\n",
    "    for j in range(10,21):   \n",
    "        job_nb_ = tuple([i,j])\n",
    "        c_c = random.randint(100,200)\n",
    "        c_p = random.randint(20, 50)\n",
    "        t = algo_rdn(schedule(job_nb_, c_c, c_p), schedule_rdn(job_nb_, c_c, c_p))\n",
    "        z.append(t)\n",
    "        \n",
    "i = z.count(-1)\n",
    "j=z.count(1)\n",
    "z = np.array(z)\n",
    "print(f\"instance {job_len=} {cal_len=} \")\n",
    "pp.pprint(z)"
   ]
  }
 ],
 "metadata": {
  "interpreter": {
   "hash": "284b25ea3bc19db9ef854e806000fd3c3a3c0b888ccba9c3144aa1aa2c385bf2"
  },
  "kernelspec": {
   "display_name": "Python 3.8.13 ('virtualenv')",
   "language": "python",
   "name": "python3"
  },
  "language_info": {
   "codemirror_mode": {
    "name": "ipython",
    "version": 3
   },
   "file_extension": ".py",
   "mimetype": "text/x-python",
   "name": "python",
   "nbconvert_exporter": "python",
   "pygments_lexer": "ipython3",
   "version": "3.8.13"
  },
  "orig_nbformat": 4
 },
 "nbformat": 4,
 "nbformat_minor": 2
}
